{
 "cells": [
  {
   "cell_type": "code",
   "execution_count": 581,
   "id": "f1e934f6-0c21-4c83-ae13-ca27197abc23",
   "metadata": {},
   "outputs": [],
   "source": [
    "import numpy as np\n",
    "import pandas as pd\n",
    "import matplotlib.pyplot as plt\n",
    "import seaborn as sns"
   ]
  },
  {
   "cell_type": "code",
   "execution_count": 583,
   "id": "fd1add4b-2789-4310-b689-8da5d0fdb219",
   "metadata": {},
   "outputs": [],
   "source": [
    "train_ft = pd.read_csv('./training_set_features.csv')\n",
    "test_ft = pd.read_csv('./test_set_features.csv')\n",
    "train_lbl = pd.read_csv('training_set_labels.csv')\n",
    "submit_fmt = pd.read_csv('submission_format.csv')"
   ]
  },
  {
   "cell_type": "code",
   "execution_count": 585,
   "id": "ed8c3cc0-e362-488e-90f4-2ebf500acdc5",
   "metadata": {},
   "outputs": [
    {
     "data": {
      "text/plain": [
       "Index(['respondent_id', 'xyz_concern', 'xyz_knowledge',\n",
       "       'behavioral_antiviral_meds', 'behavioral_avoidance',\n",
       "       'behavioral_face_mask', 'behavioral_wash_hands',\n",
       "       'behavioral_large_gatherings', 'behavioral_outside_home',\n",
       "       'behavioral_touch_face', 'doctor_recc_xyz', 'doctor_recc_seasonal',\n",
       "       'chronic_med_condition', 'child_under_6_months', 'health_worker',\n",
       "       'health_insurance', 'opinion_xyz_vacc_effective', 'opinion_xyz_risk',\n",
       "       'opinion_xyz_sick_from_vacc', 'opinion_seas_vacc_effective',\n",
       "       'opinion_seas_risk', 'opinion_seas_sick_from_vacc', 'age_group',\n",
       "       'education', 'race', 'sex', 'income_poverty', 'marital_status',\n",
       "       'rent_or_own', 'employment_status', 'hhs_geo_region', 'census_msa',\n",
       "       'household_adults', 'household_children', 'employment_industry',\n",
       "       'employment_occupation'],\n",
       "      dtype='object')"
      ]
     },
     "execution_count": 585,
     "metadata": {},
     "output_type": "execute_result"
    }
   ],
   "source": [
    "train_ft.columns"
   ]
  },
  {
   "cell_type": "code",
   "execution_count": 587,
   "id": "f22feb24-f07e-4cf2-af6d-3f0ca55ca89f",
   "metadata": {},
   "outputs": [],
   "source": [
    "#no meaningful info in columns 'hhs_geo_region', 'employment_industry','employment_occupation' -  remove\n",
    "train_ft.drop(columns=['hhs_geo_region', 'employment_industry', 'employment_occupation'], inplace=True)\n",
    "test_ft.drop(columns=['hhs_geo_region', 'employment_industry', 'employment_occupation'], inplace=True)"
   ]
  },
  {
   "cell_type": "code",
   "execution_count": 589,
   "id": "ff20699c-0804-44a6-81af-73a83f6ebbf9",
   "metadata": {},
   "outputs": [],
   "source": [
    "#lets do some categorization of columns:\n",
    "num_cols = ['xyz_concern', 'xyz_knowledge',\n",
    "       'behavioral_antiviral_meds', 'behavioral_avoidance',\n",
    "       'behavioral_face_mask', 'behavioral_wash_hands',\n",
    "       'behavioral_large_gatherings', 'behavioral_outside_home',\n",
    "       'behavioral_touch_face', 'doctor_recc_xyz', 'doctor_recc_seasonal',\n",
    "       'chronic_med_condition', 'child_under_6_months', 'health_worker',\n",
    "      'opinion_xyz_vacc_effective', 'opinion_xyz_risk',\n",
    "       'opinion_xyz_sick_from_vacc', 'opinion_seas_vacc_effective',\n",
    "       'opinion_seas_risk', 'opinion_seas_sick_from_vacc', \n",
    "        'household_adults', 'household_children']\n",
    "obj_cols = ['age_group','education', 'race', 'sex', 'income_poverty', \n",
    "            'marital_status', 'rent_or_own', 'employment_status', 'census_msa']"
   ]
  },
  {
   "cell_type": "code",
   "execution_count": 591,
   "id": "5f8bc8da-fc1e-454c-92ec-b3400434bad6",
   "metadata": {},
   "outputs": [
    {
     "data": {
      "text/plain": [
       "respondent_id                      0\n",
       "xyz_concern                       92\n",
       "xyz_knowledge                    116\n",
       "behavioral_antiviral_meds         71\n",
       "behavioral_avoidance             208\n",
       "behavioral_face_mask              19\n",
       "behavioral_wash_hands             42\n",
       "behavioral_large_gatherings       87\n",
       "behavioral_outside_home           82\n",
       "behavioral_touch_face            128\n",
       "doctor_recc_xyz                 2160\n",
       "doctor_recc_seasonal            2160\n",
       "chronic_med_condition            971\n",
       "child_under_6_months             820\n",
       "health_worker                    804\n",
       "health_insurance               12274\n",
       "opinion_xyz_vacc_effective       391\n",
       "opinion_xyz_risk                 388\n",
       "opinion_xyz_sick_from_vacc       395\n",
       "opinion_seas_vacc_effective      462\n",
       "opinion_seas_risk                514\n",
       "opinion_seas_sick_from_vacc      537\n",
       "age_group                          0\n",
       "education                       1407\n",
       "race                               0\n",
       "sex                                0\n",
       "income_poverty                  4423\n",
       "marital_status                  1408\n",
       "rent_or_own                     2042\n",
       "employment_status               1463\n",
       "census_msa                         0\n",
       "household_adults                 249\n",
       "household_children               249\n",
       "dtype: int64"
      ]
     },
     "execution_count": 591,
     "metadata": {},
     "output_type": "execute_result"
    }
   ],
   "source": [
    "train_ft.isna().sum()"
   ]
  },
  {
   "cell_type": "code",
   "execution_count": 593,
   "id": "14ebbf9d-ef46-41ad-acd8-2a18fb41847a",
   "metadata": {},
   "outputs": [],
   "source": [
    "# too many missing in health-insurance col - delete it\n",
    "train_ft.drop(columns=['health_insurance'], inplace=True)\n",
    "test_ft.drop(columns=['health_insurance'], inplace=True)"
   ]
  },
  {
   "cell_type": "code",
   "execution_count": 595,
   "id": "324fae7c-851a-4ed7-82b6-5f62dcf603e9",
   "metadata": {},
   "outputs": [],
   "source": [
    "#handling other missing values:\n",
    "from sklearn.impute import SimpleImputer\n",
    "imputer = SimpleImputer(strategy='most_frequent')\n",
    "cols_to_mode_impute = ['education', 'income_poverty', 'employment_status', \n",
    "                       'opinion_xyz_vacc_effective', 'opinion_xyz_risk',\n",
    "                       'opinion_xyz_sick_from_vacc', 'opinion_seas_vacc_effective',\n",
    "                        'opinion_seas_risk', 'opinion_seas_sick_from_vacc']\n",
    "train_ft[cols_to_mode_impute] = imputer.fit_transform(train_ft[cols_to_mode_impute])\n",
    "test_ft[cols_to_mode_impute] = imputer.fit_transform(test_ft[cols_to_mode_impute])"
   ]
  },
  {
   "cell_type": "code",
   "execution_count": 597,
   "id": "c051ff83-ee58-4544-a86c-de0085494424",
   "metadata": {},
   "outputs": [
    {
     "data": {
      "text/plain": [
       "['respondent_id',\n",
       " 'xyz_concern',\n",
       " 'xyz_knowledge',\n",
       " 'behavioral_antiviral_meds',\n",
       " 'behavioral_avoidance',\n",
       " 'behavioral_face_mask',\n",
       " 'behavioral_wash_hands',\n",
       " 'behavioral_large_gatherings',\n",
       " 'behavioral_outside_home',\n",
       " 'behavioral_touch_face',\n",
       " 'opinion_xyz_vacc_effective',\n",
       " 'opinion_xyz_risk',\n",
       " 'opinion_xyz_sick_from_vacc',\n",
       " 'opinion_seas_vacc_effective',\n",
       " 'opinion_seas_risk',\n",
       " 'opinion_seas_sick_from_vacc',\n",
       " 'age_group',\n",
       " 'education',\n",
       " 'race',\n",
       " 'sex',\n",
       " 'income_poverty',\n",
       " 'employment_status',\n",
       " 'census_msa',\n",
       " 'household_adults',\n",
       " 'household_children']"
      ]
     },
     "execution_count": 597,
     "metadata": {},
     "output_type": "execute_result"
    }
   ],
   "source": [
    "cols_with_less_null = []\n",
    "for col in train_ft.columns:\n",
    "    if train_ft[col].isna().sum() < 300:\n",
    "        cols_with_less_null.append(col)\n",
    "\n",
    "cols_with_less_null"
   ]
  },
  {
   "cell_type": "code",
   "execution_count": 599,
   "id": "19ab903b-c109-484c-b15a-9d9f3a98c8b0",
   "metadata": {},
   "outputs": [],
   "source": [
    "# #now lets remove the rows when columns have less than 300 missing values:\n",
    "# cols_with_less_null = []\n",
    "# for col in train_ft.columns:\n",
    "#     if train_ft[col].isna().sum() < 300:\n",
    "#         cols_with_less_null.append(col)\n",
    "\n",
    "# train_ft.dropna(subset=cols_with_less_null, inplace=True)\n",
    "# test_ft.dropna(subset=cols_with_less_null, inplace=True) ------------ wrong, so removed"
   ]
  },
  {
   "cell_type": "code",
   "execution_count": 601,
   "id": "25492a48-ff1d-4111-8b25-fa68d8145321",
   "metadata": {},
   "outputs": [],
   "source": [
    "#lets perform mode imputation on other parameters also:\n",
    "more_cols_modeimpute = ['doctor_recc_xyz', 'doctor_recc_seasonal', 'chronic_med_condition', 'child_under_6_months', 'health_worker', 'xyz_concern',\n",
    " 'xyz_knowledge',\n",
    " 'behavioral_antiviral_meds',\n",
    " 'behavioral_avoidance',\n",
    " 'behavioral_face_mask',\n",
    " 'behavioral_wash_hands',\n",
    " 'behavioral_large_gatherings',\n",
    " 'behavioral_outside_home',\n",
    " 'behavioral_touch_face',\n",
    " 'opinion_xyz_vacc_effective',\n",
    " 'opinion_xyz_risk',\n",
    " 'opinion_xyz_sick_from_vacc',\n",
    " 'opinion_seas_vacc_effective',\n",
    " 'opinion_seas_risk',\n",
    " 'opinion_seas_sick_from_vacc',\n",
    " 'age_group',\n",
    " 'education',\n",
    " 'race',\n",
    " 'sex',\n",
    " 'income_poverty',\n",
    " 'employment_status',\n",
    " 'census_msa',]\n",
    "train_ft.loc[:, more_cols_modeimpute] = imputer.fit_transform(train_ft.loc[:, more_cols_modeimpute])\n",
    "test_ft.loc[:, more_cols_modeimpute] = imputer.fit_transform(test_ft.loc[:, more_cols_modeimpute])"
   ]
  },
  {
   "cell_type": "code",
   "execution_count": 602,
   "id": "d08e1e32-c0bd-4b90-9051-5276bbc0fffc",
   "metadata": {},
   "outputs": [],
   "source": [
    "#lets feature encode sex, marital_status and rent_or_own rn for convinience\n",
    "train_ft.loc[:,'marital_status'] = train_ft.loc[:,'marital_status'].apply(lambda x: 1 if x == 'Married' else 0)\n",
    "train_ft.loc[:, 'rent_or_own'] = train_ft.loc[:, 'rent_or_own'].apply(lambda x: 1 if x == 'Own' else 0)\n",
    "train_ft.loc[:, 'sex'] = train_ft.loc[:, 'sex'].apply(lambda x: 1 if x == 'Male' else 0)\n",
    "train_ft['marital_status'] = train_ft['marital_status'].astype(int)\n",
    "train_ft['rent_or_own'] = train_ft['rent_or_own'].astype(int)\n",
    "train_ft['sex'] = train_ft['sex'].astype(int)\n",
    "\n",
    "test_ft.loc[:,'marital_status'] = test_ft.loc[:,'marital_status'].apply(lambda x: 1 if x == 'Married' else 0)\n",
    "test_ft.loc[:, 'rent_or_own'] = test_ft.loc[:, 'rent_or_own'].apply(lambda x: 1 if x == 'Own' else 0)\n",
    "test_ft.loc[:, 'sex'] = test_ft.loc[:, 'sex'].apply(lambda x: 1 if x == 'Male' else 0)\n",
    "test_ft['marital_status'] = test_ft['marital_status'].astype(int)\n",
    "test_ft['rent_or_own'] = test_ft['rent_or_own'].astype(int)\n",
    "test_ft['sex'] = test_ft['sex'].astype(int)"
   ]
  },
  {
   "cell_type": "code",
   "execution_count": 605,
   "id": "b5d9f57e-7e31-4c87-bdf8-d061fb2ff84c",
   "metadata": {},
   "outputs": [],
   "source": [
    "cols_median_impute = ['household_adults', 'household_children']\n",
    "imputer = SimpleImputer(strategy='median')\n",
    "train_ft.loc[:, cols_median_impute] = imputer.fit_transform(train_ft.loc[:, cols_median_impute])\n",
    "test_ft.loc[:, cols_median_impute] = imputer.fit_transform(test_ft.loc[:, cols_median_impute])"
   ]
  },
  {
   "cell_type": "code",
   "execution_count": 607,
   "id": "4afdd843-7362-43e7-a46d-da035ba2163a",
   "metadata": {},
   "outputs": [
    {
     "data": {
      "text/plain": [
       "respondent_id                  0\n",
       "xyz_concern                    0\n",
       "xyz_knowledge                  0\n",
       "behavioral_antiviral_meds      0\n",
       "behavioral_avoidance           0\n",
       "behavioral_face_mask           0\n",
       "behavioral_wash_hands          0\n",
       "behavioral_large_gatherings    0\n",
       "behavioral_outside_home        0\n",
       "behavioral_touch_face          0\n",
       "doctor_recc_xyz                0\n",
       "doctor_recc_seasonal           0\n",
       "chronic_med_condition          0\n",
       "child_under_6_months           0\n",
       "health_worker                  0\n",
       "opinion_xyz_vacc_effective     0\n",
       "opinion_xyz_risk               0\n",
       "opinion_xyz_sick_from_vacc     0\n",
       "opinion_seas_vacc_effective    0\n",
       "opinion_seas_risk              0\n",
       "opinion_seas_sick_from_vacc    0\n",
       "age_group                      0\n",
       "education                      0\n",
       "race                           0\n",
       "sex                            0\n",
       "income_poverty                 0\n",
       "marital_status                 0\n",
       "rent_or_own                    0\n",
       "employment_status              0\n",
       "census_msa                     0\n",
       "household_adults               0\n",
       "household_children             0\n",
       "dtype: int64"
      ]
     },
     "execution_count": 607,
     "metadata": {},
     "output_type": "execute_result"
    }
   ],
   "source": [
    "test_ft.isna().sum()"
   ]
  },
  {
   "cell_type": "markdown",
   "id": "9ccb7ae0-de74-4932-9fdf-356b3877c2ac",
   "metadata": {},
   "source": [
    "### Feature encoding & Normalizing"
   ]
  },
  {
   "cell_type": "code",
   "execution_count": 610,
   "id": "46ff28b9-5a28-435c-8e23-5baf3c613fa9",
   "metadata": {},
   "outputs": [],
   "source": [
    "nominal_cols = ['behavioral_antiviral_meds', 'behavioral_avoidance',\n",
    "       'behavioral_face_mask', 'behavioral_wash_hands',\n",
    "       'behavioral_large_gatherings', 'behavioral_outside_home',\n",
    "       'behavioral_touch_face', 'doctor_recc_xyz', 'doctor_recc_seasonal',\n",
    "       'chronic_med_condition', 'child_under_6_months', 'health_worker', \n",
    "        'marital_status', 'rent_or_own', 'sex']\n",
    "ordinal_cols = ['xyz_concern', 'xyz_knowledge', 'opinion_xyz_vacc_effective', 'opinion_xyz_risk',\n",
    "       'opinion_xyz_sick_from_vacc', 'opinion_seas_vacc_effective',\n",
    "       'opinion_seas_risk', 'opinion_seas_sick_from_vacc']\n",
    "categorical_cols = ['age_group', 'education', 'race', 'income_poverty', \n",
    "                    'employment_status', 'census_msa']\n",
    "numerical_cols = ['household_adults', 'household_children']"
   ]
  },
  {
   "cell_type": "code",
   "execution_count": 612,
   "id": "25673cdc-283f-4459-893c-22c01e80deb2",
   "metadata": {},
   "outputs": [],
   "source": [
    "from sklearn.preprocessing import StandardScaler\n",
    "scaler = StandardScaler()\n",
    "train_ft[ordinal_cols + numerical_cols] = scaler.fit_transform(train_ft[ordinal_cols + numerical_cols])\n",
    "train_ft = pd.get_dummies(train_ft, columns=categorical_cols, drop_first=True)\n",
    "\n",
    "test_ft[ordinal_cols + numerical_cols] = scaler.fit_transform(test_ft[ordinal_cols + numerical_cols])\n",
    "test_ft = pd.get_dummies(test_ft, columns=categorical_cols, drop_first=True)"
   ]
  },
  {
   "cell_type": "code",
   "execution_count": 614,
   "id": "65975963-efea-4b58-b984-1d7183f2a5fc",
   "metadata": {},
   "outputs": [],
   "source": [
    "# ordinal_encoding = {val: idx for idx, val in enumerate(sorted(train_ft['age_group'].unique()))}\n",
    "# train_ft['age_group'] = train_ft['age_group'].map(ordinal_encoding)\n",
    "\n",
    "# ordinal_encoding_2 = {val: idx for idx, val in enumerate(sorted(test_ft['age_group'].unique()))}\n",
    "# test_ft['age_group'] = test_ft['age_group'].map(ordinal_encoding_2)"
   ]
  },
  {
   "cell_type": "code",
   "execution_count": 616,
   "id": "2abf30e0-6420-4ad7-8281-858c3fa31dcc",
   "metadata": {},
   "outputs": [],
   "source": [
    "# unique_values_sorted_education = ['< 12 Years', '12 Years', 'Some College', 'College Graduate']\n",
    "# ordinal_encoding = {val: idx for idx, val in enumerate(unique_values_sorted_education)}\n",
    "# train_ft['education'] = train_ft['education'].map(ordinal_encoding)\n",
    "\n",
    "# unique_values_sorted_education_2 = ['< 12 Years', '12 Years', 'Some College', 'College Graduate']\n",
    "# ordinal_encoding_2 = {val: idx for idx, val in enumerate(unique_values_sorted_education_2)}\n",
    "# test_ft['education'] = test_ft['education'].map(ordinal_encoding)"
   ]
  },
  {
   "cell_type": "code",
   "execution_count": 618,
   "id": "4716051a-41cf-45c5-8639-984d1226653a",
   "metadata": {},
   "outputs": [],
   "source": [
    "# unique_values_sorted_poverty = ['Below Poverty', '<= $75,000, Above Poverty', '> $75,000']\n",
    "# ordinal_encoding = {val: idx for idx, val in enumerate(unique_values_sorted_poverty)}\n",
    "# train_ft['income_poverty'] = train_ft['income_poverty'].map(ordinal_encoding)\n",
    "\n",
    "# ordinal_encoding_2 = {val: idx for idx, val in enumerate(unique_values_sorted_poverty)}\n",
    "# test_ft['income_poverty'] = test_ft['income_poverty'].map(ordinal_encoding_2)"
   ]
  },
  {
   "cell_type": "code",
   "execution_count": 620,
   "id": "385b0e99-b823-46e5-8248-e97a40eb0628",
   "metadata": {},
   "outputs": [],
   "source": [
    "# unique_values_race = ['White', 'Black', 'Other or Multiple', 'Hispanic']\n",
    "# ordinal_encoding = {val: idx for idx, val in enumerate(unique_values_race)}\n",
    "# train_ft['race'] = train_ft['race'].map(ordinal_encoding)\n",
    "\n",
    "# ordinal_encoding_2 = {val: idx for idx, val in enumerate(unique_values_race)}\n",
    "# test_ft['race'] = test_ft['race'].map(ordinal_encoding_2)"
   ]
  },
  {
   "cell_type": "code",
   "execution_count": 622,
   "id": "0fc240cd-d4a2-484c-94bf-566edd66640d",
   "metadata": {},
   "outputs": [],
   "source": [
    "# unique_values_emp = ['Not in Labor Force', 'Employed', 'Unemployed']\n",
    "# ordinal_encoding = {val: idx for idx, val in enumerate(unique_values_emp)}\n",
    "# train_ft['employment_status'] = train_ft['employment_status'].map(ordinal_encoding)\n",
    "\n",
    "# ordinal_encoding_2 = {val: idx for idx, val in enumerate(unique_values_emp)}\n",
    "# test_ft['employment_status'] = test_ft['employment_status'].map(ordinal_encoding_2)"
   ]
  },
  {
   "cell_type": "code",
   "execution_count": 624,
   "id": "77b35c1a-2fd5-4d49-8f5b-087e99dda4f5",
   "metadata": {},
   "outputs": [],
   "source": [
    "# unique_values_msa = ['Non-MSA', 'MSA, Not Principle  City', 'MSA, Principle City']\n",
    "# ordinal_encoding = {val: idx for idx, val in enumerate(unique_values_msa)}\n",
    "# train_ft['census_msa'] = train_ft['census_msa'].map(ordinal_encoding)\n",
    "\n",
    "# ordinal_encoding_2 = {val: idx for idx, val in enumerate(unique_values_msa)}\n",
    "# test_ft['census_msa'] = test_ft['census_msa'].map(ordinal_encoding_2)"
   ]
  },
  {
   "cell_type": "markdown",
   "id": "03fe0bdd-de09-43df-91a5-dc6ab3389ad3",
   "metadata": {},
   "source": [
    "### Feature engineering - using PCA for dimensionality reduction"
   ]
  },
  {
   "cell_type": "code",
   "execution_count": 627,
   "id": "22c19d21-ab3a-47d8-90e0-9460478980ac",
   "metadata": {},
   "outputs": [
    {
     "data": {
      "text/plain": [
       "Index(['respondent_id', 'xyz_concern', 'xyz_knowledge',\n",
       "       'behavioral_antiviral_meds', 'behavioral_avoidance',\n",
       "       'behavioral_face_mask', 'behavioral_wash_hands',\n",
       "       'behavioral_large_gatherings', 'behavioral_outside_home',\n",
       "       'behavioral_touch_face', 'doctor_recc_xyz', 'doctor_recc_seasonal',\n",
       "       'chronic_med_condition', 'child_under_6_months', 'health_worker',\n",
       "       'opinion_xyz_vacc_effective', 'opinion_xyz_risk',\n",
       "       'opinion_xyz_sick_from_vacc', 'opinion_seas_vacc_effective',\n",
       "       'opinion_seas_risk', 'opinion_seas_sick_from_vacc', 'sex',\n",
       "       'marital_status', 'rent_or_own', 'household_adults',\n",
       "       'household_children', 'age_group_35 - 44 Years',\n",
       "       'age_group_45 - 54 Years', 'age_group_55 - 64 Years',\n",
       "       'age_group_65+ Years', 'education_< 12 Years',\n",
       "       'education_College Graduate', 'education_Some College', 'race_Hispanic',\n",
       "       'race_Other or Multiple', 'race_White', 'income_poverty_> $75,000',\n",
       "       'income_poverty_Below Poverty', 'employment_status_Not in Labor Force',\n",
       "       'employment_status_Unemployed', 'census_msa_MSA, Principle City',\n",
       "       'census_msa_Non-MSA'],\n",
       "      dtype='object')"
      ]
     },
     "execution_count": 627,
     "metadata": {},
     "output_type": "execute_result"
    }
   ],
   "source": [
    "train_ft.columns"
   ]
  },
  {
   "cell_type": "code",
   "execution_count": 629,
   "id": "b3904bd7-0be8-41e2-8e5d-54cd069c0790",
   "metadata": {},
   "outputs": [],
   "source": [
    "from sklearn.model_selection import train_test_split\n",
    "from sklearn.pipeline import Pipeline\n",
    "from sklearn.preprocessing import StandardScaler\n",
    "from sklearn.decomposition import PCA\n",
    "from sklearn.linear_model import LogisticRegression\n",
    "from sklearn.multioutput import MultiOutputClassifier\n",
    "from sklearn.metrics import roc_auc_score"
   ]
  },
  {
   "cell_type": "code",
   "execution_count": 631,
   "id": "b7763bbf-6cc5-481f-8dc8-897076de8428",
   "metadata": {},
   "outputs": [
    {
     "data": {
      "text/plain": [
       "(26707, 42)"
      ]
     },
     "execution_count": 631,
     "metadata": {},
     "output_type": "execute_result"
    }
   ],
   "source": [
    "train_ft.shape"
   ]
  },
  {
   "cell_type": "code",
   "execution_count": 633,
   "id": "1dac42be-3aa6-40bc-8e20-bc151d1a4d22",
   "metadata": {},
   "outputs": [
    {
     "data": {
      "text/plain": [
       "(26707, 3)"
      ]
     },
     "execution_count": 633,
     "metadata": {},
     "output_type": "execute_result"
    }
   ],
   "source": [
    "train_lbl.shape"
   ]
  },
  {
   "cell_type": "code",
   "execution_count": 635,
   "id": "8b4106c7-6ce0-4ce4-8110-30f90c3dfeff",
   "metadata": {},
   "outputs": [],
   "source": [
    "missing_ids = set(train_lbl['respondent_id']) - set(train_ft['respondent_id'])\n",
    "train_lbl = train_lbl[~train_lbl['respondent_id'].isin(missing_ids)]"
   ]
  },
  {
   "cell_type": "code",
   "execution_count": 637,
   "id": "682b0a40-6b8d-4d87-a0d5-19c59220e1fc",
   "metadata": {},
   "outputs": [
    {
     "data": {
      "text/plain": [
       "(26708, 42)"
      ]
     },
     "execution_count": 637,
     "metadata": {},
     "output_type": "execute_result"
    }
   ],
   "source": [
    "test_ft.shape"
   ]
  },
  {
   "cell_type": "code",
   "execution_count": 639,
   "id": "eda1c6dd-0662-449e-ba45-c190366fc1b1",
   "metadata": {},
   "outputs": [
    {
     "data": {
      "text/plain": [
       "(26708, 3)"
      ]
     },
     "execution_count": 639,
     "metadata": {},
     "output_type": "execute_result"
    }
   ],
   "source": [
    "submit_fmt.shape"
   ]
  },
  {
   "cell_type": "code",
   "execution_count": 641,
   "id": "d9c04493-e020-4987-9d60-9fb33ac27af8",
   "metadata": {},
   "outputs": [],
   "source": [
    "missing_ids = set(submit_fmt['respondent_id']) - set(test_ft['respondent_id'])\n",
    "submit_fmt = submit_fmt[~submit_fmt['respondent_id'].isin(missing_ids)]"
   ]
  },
  {
   "cell_type": "code",
   "execution_count": 643,
   "id": "9e54b820-b2b1-4f1f-88cc-9a66da10f61f",
   "metadata": {},
   "outputs": [
    {
     "data": {
      "text/plain": [
       "Index(['respondent_id', 'xyz_concern', 'xyz_knowledge',\n",
       "       'behavioral_antiviral_meds', 'behavioral_avoidance',\n",
       "       'behavioral_face_mask', 'behavioral_wash_hands',\n",
       "       'behavioral_large_gatherings', 'behavioral_outside_home',\n",
       "       'behavioral_touch_face', 'doctor_recc_xyz', 'doctor_recc_seasonal',\n",
       "       'chronic_med_condition', 'child_under_6_months', 'health_worker',\n",
       "       'opinion_xyz_vacc_effective', 'opinion_xyz_risk',\n",
       "       'opinion_xyz_sick_from_vacc', 'opinion_seas_vacc_effective',\n",
       "       'opinion_seas_risk', 'opinion_seas_sick_from_vacc', 'sex',\n",
       "       'marital_status', 'rent_or_own', 'household_adults',\n",
       "       'household_children', 'age_group_35 - 44 Years',\n",
       "       'age_group_45 - 54 Years', 'age_group_55 - 64 Years',\n",
       "       'age_group_65+ Years', 'education_< 12 Years',\n",
       "       'education_College Graduate', 'education_Some College', 'race_Hispanic',\n",
       "       'race_Other or Multiple', 'race_White', 'income_poverty_> $75,000',\n",
       "       'income_poverty_Below Poverty', 'employment_status_Not in Labor Force',\n",
       "       'employment_status_Unemployed', 'census_msa_MSA, Principle City',\n",
       "       'census_msa_Non-MSA'],\n",
       "      dtype='object')"
      ]
     },
     "execution_count": 643,
     "metadata": {},
     "output_type": "execute_result"
    }
   ],
   "source": [
    "train_ft.columns"
   ]
  },
  {
   "cell_type": "code",
   "execution_count": 645,
   "id": "61d50148-42b1-4dfb-9669-bea520e9b0fc",
   "metadata": {},
   "outputs": [],
   "source": [
    "#dropping this col coz it's annoying while modelling\n",
    "train_ft.drop(columns=['respondent_id'], inplace=True)\n",
    "train_lbl.drop(columns=['respondent_id'], inplace=True)\n",
    "\n",
    "test_ft.drop(columns=['respondent_id'], inplace=True)\n",
    "submit_fmt.drop(columns=['respondent_id'], inplace=True)"
   ]
  },
  {
   "cell_type": "markdown",
   "id": "5a20b957-dd64-4e7d-bd05-c5b2675e75ec",
   "metadata": {},
   "source": [
    "### Model Building"
   ]
  },
  {
   "cell_type": "code",
   "execution_count": 648,
   "id": "bd5cf55b-9ec6-4531-9953-280a794084ab",
   "metadata": {},
   "outputs": [],
   "source": [
    "# Split the data\n",
    "X_train, X_val, y_train, y_val = train_test_split(train_ft[train_ft.columns], train_lbl, test_size=0.2, random_state=42)"
   ]
  },
  {
   "cell_type": "code",
   "execution_count": 650,
   "id": "cfa6feca-2472-435a-90bb-822ff67c76df",
   "metadata": {},
   "outputs": [],
   "source": [
    "# Define the pipeline with Logistic Regression\n",
    "pipeline = Pipeline(steps=[\n",
    "                            ('scaler', StandardScaler()),\n",
    "                            ('pca', PCA(n_components=0.95)),  # Adjust n_components to keep 95% of variance\n",
    "                            ('classifier', MultiOutputClassifier(LogisticRegression(max_iter=1000, random_state=42)))\n",
    "                           ])"
   ]
  },
  {
   "cell_type": "code",
   "execution_count": 652,
   "id": "25a0708e-6e54-4a66-b376-3cac0ab10743",
   "metadata": {},
   "outputs": [
    {
     "data": {
      "text/html": [
       "<style>#sk-container-id-5 {color: black;background-color: white;}#sk-container-id-5 pre{padding: 0;}#sk-container-id-5 div.sk-toggleable {background-color: white;}#sk-container-id-5 label.sk-toggleable__label {cursor: pointer;display: block;width: 100%;margin-bottom: 0;padding: 0.3em;box-sizing: border-box;text-align: center;}#sk-container-id-5 label.sk-toggleable__label-arrow:before {content: \"▸\";float: left;margin-right: 0.25em;color: #696969;}#sk-container-id-5 label.sk-toggleable__label-arrow:hover:before {color: black;}#sk-container-id-5 div.sk-estimator:hover label.sk-toggleable__label-arrow:before {color: black;}#sk-container-id-5 div.sk-toggleable__content {max-height: 0;max-width: 0;overflow: hidden;text-align: left;background-color: #f0f8ff;}#sk-container-id-5 div.sk-toggleable__content pre {margin: 0.2em;color: black;border-radius: 0.25em;background-color: #f0f8ff;}#sk-container-id-5 input.sk-toggleable__control:checked~div.sk-toggleable__content {max-height: 200px;max-width: 100%;overflow: auto;}#sk-container-id-5 input.sk-toggleable__control:checked~label.sk-toggleable__label-arrow:before {content: \"▾\";}#sk-container-id-5 div.sk-estimator input.sk-toggleable__control:checked~label.sk-toggleable__label {background-color: #d4ebff;}#sk-container-id-5 div.sk-label input.sk-toggleable__control:checked~label.sk-toggleable__label {background-color: #d4ebff;}#sk-container-id-5 input.sk-hidden--visually {border: 0;clip: rect(1px 1px 1px 1px);clip: rect(1px, 1px, 1px, 1px);height: 1px;margin: -1px;overflow: hidden;padding: 0;position: absolute;width: 1px;}#sk-container-id-5 div.sk-estimator {font-family: monospace;background-color: #f0f8ff;border: 1px dotted black;border-radius: 0.25em;box-sizing: border-box;margin-bottom: 0.5em;}#sk-container-id-5 div.sk-estimator:hover {background-color: #d4ebff;}#sk-container-id-5 div.sk-parallel-item::after {content: \"\";width: 100%;border-bottom: 1px solid gray;flex-grow: 1;}#sk-container-id-5 div.sk-label:hover label.sk-toggleable__label {background-color: #d4ebff;}#sk-container-id-5 div.sk-serial::before {content: \"\";position: absolute;border-left: 1px solid gray;box-sizing: border-box;top: 0;bottom: 0;left: 50%;z-index: 0;}#sk-container-id-5 div.sk-serial {display: flex;flex-direction: column;align-items: center;background-color: white;padding-right: 0.2em;padding-left: 0.2em;position: relative;}#sk-container-id-5 div.sk-item {position: relative;z-index: 1;}#sk-container-id-5 div.sk-parallel {display: flex;align-items: stretch;justify-content: center;background-color: white;position: relative;}#sk-container-id-5 div.sk-item::before, #sk-container-id-5 div.sk-parallel-item::before {content: \"\";position: absolute;border-left: 1px solid gray;box-sizing: border-box;top: 0;bottom: 0;left: 50%;z-index: -1;}#sk-container-id-5 div.sk-parallel-item {display: flex;flex-direction: column;z-index: 1;position: relative;background-color: white;}#sk-container-id-5 div.sk-parallel-item:first-child::after {align-self: flex-end;width: 50%;}#sk-container-id-5 div.sk-parallel-item:last-child::after {align-self: flex-start;width: 50%;}#sk-container-id-5 div.sk-parallel-item:only-child::after {width: 0;}#sk-container-id-5 div.sk-dashed-wrapped {border: 1px dashed gray;margin: 0 0.4em 0.5em 0.4em;box-sizing: border-box;padding-bottom: 0.4em;background-color: white;}#sk-container-id-5 div.sk-label label {font-family: monospace;font-weight: bold;display: inline-block;line-height: 1.2em;}#sk-container-id-5 div.sk-label-container {text-align: center;}#sk-container-id-5 div.sk-container {/* jupyter's `normalize.less` sets `[hidden] { display: none; }` but bootstrap.min.css set `[hidden] { display: none !important; }` so we also need the `!important` here to be able to override the default hidden behavior on the sphinx rendered scikit-learn.org. See: https://github.com/scikit-learn/scikit-learn/issues/21755 */display: inline-block !important;position: relative;}#sk-container-id-5 div.sk-text-repr-fallback {display: none;}</style><div id=\"sk-container-id-5\" class=\"sk-top-container\"><div class=\"sk-text-repr-fallback\"><pre>Pipeline(steps=[(&#x27;scaler&#x27;, StandardScaler()), (&#x27;pca&#x27;, PCA(n_components=0.95)),\n",
       "                (&#x27;classifier&#x27;,\n",
       "                 MultiOutputClassifier(estimator=LogisticRegression(max_iter=1000,\n",
       "                                                                    random_state=42)))])</pre><b>In a Jupyter environment, please rerun this cell to show the HTML representation or trust the notebook. <br />On GitHub, the HTML representation is unable to render, please try loading this page with nbviewer.org.</b></div><div class=\"sk-container\" hidden><div class=\"sk-item sk-dashed-wrapped\"><div class=\"sk-label-container\"><div class=\"sk-label sk-toggleable\"><input class=\"sk-toggleable__control sk-hidden--visually\" id=\"sk-estimator-id-25\" type=\"checkbox\" ><label for=\"sk-estimator-id-25\" class=\"sk-toggleable__label sk-toggleable__label-arrow\">Pipeline</label><div class=\"sk-toggleable__content\"><pre>Pipeline(steps=[(&#x27;scaler&#x27;, StandardScaler()), (&#x27;pca&#x27;, PCA(n_components=0.95)),\n",
       "                (&#x27;classifier&#x27;,\n",
       "                 MultiOutputClassifier(estimator=LogisticRegression(max_iter=1000,\n",
       "                                                                    random_state=42)))])</pre></div></div></div><div class=\"sk-serial\"><div class=\"sk-item\"><div class=\"sk-estimator sk-toggleable\"><input class=\"sk-toggleable__control sk-hidden--visually\" id=\"sk-estimator-id-26\" type=\"checkbox\" ><label for=\"sk-estimator-id-26\" class=\"sk-toggleable__label sk-toggleable__label-arrow\">StandardScaler</label><div class=\"sk-toggleable__content\"><pre>StandardScaler()</pre></div></div></div><div class=\"sk-item\"><div class=\"sk-estimator sk-toggleable\"><input class=\"sk-toggleable__control sk-hidden--visually\" id=\"sk-estimator-id-27\" type=\"checkbox\" ><label for=\"sk-estimator-id-27\" class=\"sk-toggleable__label sk-toggleable__label-arrow\">PCA</label><div class=\"sk-toggleable__content\"><pre>PCA(n_components=0.95)</pre></div></div></div><div class=\"sk-item sk-dashed-wrapped\"><div class=\"sk-label-container\"><div class=\"sk-label sk-toggleable\"><input class=\"sk-toggleable__control sk-hidden--visually\" id=\"sk-estimator-id-28\" type=\"checkbox\" ><label for=\"sk-estimator-id-28\" class=\"sk-toggleable__label sk-toggleable__label-arrow\">classifier: MultiOutputClassifier</label><div class=\"sk-toggleable__content\"><pre>MultiOutputClassifier(estimator=LogisticRegression(max_iter=1000,\n",
       "                                                   random_state=42))</pre></div></div></div><div class=\"sk-parallel\"><div class=\"sk-parallel-item\"><div class=\"sk-item\"><div class=\"sk-label-container\"><div class=\"sk-label sk-toggleable\"><input class=\"sk-toggleable__control sk-hidden--visually\" id=\"sk-estimator-id-29\" type=\"checkbox\" ><label for=\"sk-estimator-id-29\" class=\"sk-toggleable__label sk-toggleable__label-arrow\">estimator: LogisticRegression</label><div class=\"sk-toggleable__content\"><pre>LogisticRegression(max_iter=1000, random_state=42)</pre></div></div></div><div class=\"sk-serial\"><div class=\"sk-item\"><div class=\"sk-estimator sk-toggleable\"><input class=\"sk-toggleable__control sk-hidden--visually\" id=\"sk-estimator-id-30\" type=\"checkbox\" ><label for=\"sk-estimator-id-30\" class=\"sk-toggleable__label sk-toggleable__label-arrow\">LogisticRegression</label><div class=\"sk-toggleable__content\"><pre>LogisticRegression(max_iter=1000, random_state=42)</pre></div></div></div></div></div></div></div></div></div></div></div></div>"
      ],
      "text/plain": [
       "Pipeline(steps=[('scaler', StandardScaler()), ('pca', PCA(n_components=0.95)),\n",
       "                ('classifier',\n",
       "                 MultiOutputClassifier(estimator=LogisticRegression(max_iter=1000,\n",
       "                                                                    random_state=42)))])"
      ]
     },
     "execution_count": 652,
     "metadata": {},
     "output_type": "execute_result"
    }
   ],
   "source": [
    "pipeline.fit(X_train, y_train)"
   ]
  },
  {
   "cell_type": "code",
   "execution_count": 654,
   "id": "877c275d-e67b-4241-83fa-0c83c25d4710",
   "metadata": {},
   "outputs": [],
   "source": [
    "y_pred_val = pipeline.predict_proba(X_val)"
   ]
  },
  {
   "cell_type": "markdown",
   "id": "ae850624-7c60-4231-846a-a043cc3b8f13",
   "metadata": {},
   "source": [
    "##### -----------personal verification - not process------------------------------"
   ]
  },
  {
   "cell_type": "code",
   "execution_count": 657,
   "id": "4724fc4a-8d3d-42fd-a886-465ea7e1d2cd",
   "metadata": {},
   "outputs": [
    {
     "data": {
      "text/html": [
       "<div>\n",
       "<style scoped>\n",
       "    .dataframe tbody tr th:only-of-type {\n",
       "        vertical-align: middle;\n",
       "    }\n",
       "\n",
       "    .dataframe tbody tr th {\n",
       "        vertical-align: top;\n",
       "    }\n",
       "\n",
       "    .dataframe thead th {\n",
       "        text-align: right;\n",
       "    }\n",
       "</style>\n",
       "<table border=\"1\" class=\"dataframe\">\n",
       "  <thead>\n",
       "    <tr style=\"text-align: right;\">\n",
       "      <th></th>\n",
       "      <th>xyz_vaccine</th>\n",
       "      <th>seasonal_vaccine</th>\n",
       "    </tr>\n",
       "  </thead>\n",
       "  <tbody>\n",
       "    <tr>\n",
       "      <th>15772</th>\n",
       "      <td>0</td>\n",
       "      <td>0</td>\n",
       "    </tr>\n",
       "    <tr>\n",
       "      <th>9407</th>\n",
       "      <td>0</td>\n",
       "      <td>1</td>\n",
       "    </tr>\n",
       "    <tr>\n",
       "      <th>16515</th>\n",
       "      <td>0</td>\n",
       "      <td>0</td>\n",
       "    </tr>\n",
       "    <tr>\n",
       "      <th>23353</th>\n",
       "      <td>0</td>\n",
       "      <td>0</td>\n",
       "    </tr>\n",
       "    <tr>\n",
       "      <th>10008</th>\n",
       "      <td>0</td>\n",
       "      <td>0</td>\n",
       "    </tr>\n",
       "  </tbody>\n",
       "</table>\n",
       "</div>"
      ],
      "text/plain": [
       "       xyz_vaccine  seasonal_vaccine\n",
       "15772            0                 0\n",
       "9407             0                 1\n",
       "16515            0                 0\n",
       "23353            0                 0\n",
       "10008            0                 0"
      ]
     },
     "execution_count": 657,
     "metadata": {},
     "output_type": "execute_result"
    }
   ],
   "source": [
    "y_val.head()"
   ]
  },
  {
   "cell_type": "code",
   "execution_count": 659,
   "id": "991a9a58-c667-48bd-be61-baf2894f1b66",
   "metadata": {},
   "outputs": [
    {
     "name": "stdout",
     "output_type": "stream",
     "text": [
      "Predicted probabilities for validation set:\n",
      "xyz_vaccine:\n",
      "[[0.90627434 0.09372566]\n",
      " [0.93287131 0.06712869]\n",
      " [0.89563013 0.10436987]\n",
      " [0.83114938 0.16885062]\n",
      " [0.84523929 0.15476071]]\n",
      "\n",
      "seasonal_vaccine:\n",
      "[[0.7408011  0.2591989 ]\n",
      " [0.87170297 0.12829703]\n",
      " [0.30315315 0.69684685]\n",
      " [0.78746893 0.21253107]\n",
      " [0.73942229 0.26057771]]\n"
     ]
    }
   ],
   "source": [
    "print(\"Predicted probabilities for validation set:\")\n",
    "print(\"xyz_vaccine:\")\n",
    "print(y_pred_val[0][:5])  # Print first 5 samples' probabilities for xyz_vaccine\n",
    "print(\"\\nseasonal_vaccine:\")\n",
    "print(y_pred_val[1][:5])"
   ]
  },
  {
   "cell_type": "code",
   "execution_count": 661,
   "id": "07b39eb3-74cd-48ad-9661-db3b7c489776",
   "metadata": {},
   "outputs": [
    {
     "data": {
      "text/plain": [
       "[array([[0.90627434, 0.09372566],\n",
       "        [0.93287131, 0.06712869],\n",
       "        [0.89563013, 0.10436987],\n",
       "        ...,\n",
       "        [0.47486423, 0.52513577],\n",
       "        [0.725149  , 0.274851  ],\n",
       "        [0.83455043, 0.16544957]]),\n",
       " array([[0.7408011 , 0.2591989 ],\n",
       "        [0.87170297, 0.12829703],\n",
       "        [0.30315315, 0.69684685],\n",
       "        ...,\n",
       "        [0.45270894, 0.54729106],\n",
       "        [0.52829155, 0.47170845],\n",
       "        [0.3783259 , 0.6216741 ]])]"
      ]
     },
     "execution_count": 661,
     "metadata": {},
     "output_type": "execute_result"
    }
   ],
   "source": [
    "y_pred_val"
   ]
  },
  {
   "cell_type": "code",
   "execution_count": 663,
   "id": "39779942-4ac4-4170-9ffa-884bbe89dfeb",
   "metadata": {},
   "outputs": [
    {
     "data": {
      "text/html": [
       "<div>\n",
       "<style scoped>\n",
       "    .dataframe tbody tr th:only-of-type {\n",
       "        vertical-align: middle;\n",
       "    }\n",
       "\n",
       "    .dataframe tbody tr th {\n",
       "        vertical-align: top;\n",
       "    }\n",
       "\n",
       "    .dataframe thead th {\n",
       "        text-align: right;\n",
       "    }\n",
       "</style>\n",
       "<table border=\"1\" class=\"dataframe\">\n",
       "  <thead>\n",
       "    <tr style=\"text-align: right;\">\n",
       "      <th></th>\n",
       "      <th>xyz_vaccine</th>\n",
       "      <th>seasonal_vaccine</th>\n",
       "    </tr>\n",
       "  </thead>\n",
       "  <tbody>\n",
       "    <tr>\n",
       "      <th>15772</th>\n",
       "      <td>0</td>\n",
       "      <td>0</td>\n",
       "    </tr>\n",
       "    <tr>\n",
       "      <th>9407</th>\n",
       "      <td>0</td>\n",
       "      <td>1</td>\n",
       "    </tr>\n",
       "    <tr>\n",
       "      <th>16515</th>\n",
       "      <td>0</td>\n",
       "      <td>0</td>\n",
       "    </tr>\n",
       "    <tr>\n",
       "      <th>23353</th>\n",
       "      <td>0</td>\n",
       "      <td>0</td>\n",
       "    </tr>\n",
       "    <tr>\n",
       "      <th>10008</th>\n",
       "      <td>0</td>\n",
       "      <td>0</td>\n",
       "    </tr>\n",
       "    <tr>\n",
       "      <th>11635</th>\n",
       "      <td>1</td>\n",
       "      <td>1</td>\n",
       "    </tr>\n",
       "    <tr>\n",
       "      <th>19331</th>\n",
       "      <td>0</td>\n",
       "      <td>1</td>\n",
       "    </tr>\n",
       "    <tr>\n",
       "      <th>10221</th>\n",
       "      <td>1</td>\n",
       "      <td>1</td>\n",
       "    </tr>\n",
       "    <tr>\n",
       "      <th>23327</th>\n",
       "      <td>0</td>\n",
       "      <td>0</td>\n",
       "    </tr>\n",
       "    <tr>\n",
       "      <th>16569</th>\n",
       "      <td>1</td>\n",
       "      <td>1</td>\n",
       "    </tr>\n",
       "    <tr>\n",
       "      <th>2641</th>\n",
       "      <td>1</td>\n",
       "      <td>1</td>\n",
       "    </tr>\n",
       "    <tr>\n",
       "      <th>7302</th>\n",
       "      <td>0</td>\n",
       "      <td>0</td>\n",
       "    </tr>\n",
       "    <tr>\n",
       "      <th>6027</th>\n",
       "      <td>0</td>\n",
       "      <td>1</td>\n",
       "    </tr>\n",
       "    <tr>\n",
       "      <th>25458</th>\n",
       "      <td>0</td>\n",
       "      <td>1</td>\n",
       "    </tr>\n",
       "    <tr>\n",
       "      <th>15714</th>\n",
       "      <td>0</td>\n",
       "      <td>0</td>\n",
       "    </tr>\n",
       "    <tr>\n",
       "      <th>4814</th>\n",
       "      <td>0</td>\n",
       "      <td>1</td>\n",
       "    </tr>\n",
       "    <tr>\n",
       "      <th>19535</th>\n",
       "      <td>1</td>\n",
       "      <td>0</td>\n",
       "    </tr>\n",
       "    <tr>\n",
       "      <th>17407</th>\n",
       "      <td>0</td>\n",
       "      <td>0</td>\n",
       "    </tr>\n",
       "    <tr>\n",
       "      <th>7757</th>\n",
       "      <td>0</td>\n",
       "      <td>0</td>\n",
       "    </tr>\n",
       "    <tr>\n",
       "      <th>9712</th>\n",
       "      <td>0</td>\n",
       "      <td>0</td>\n",
       "    </tr>\n",
       "    <tr>\n",
       "      <th>6545</th>\n",
       "      <td>1</td>\n",
       "      <td>1</td>\n",
       "    </tr>\n",
       "    <tr>\n",
       "      <th>5706</th>\n",
       "      <td>1</td>\n",
       "      <td>0</td>\n",
       "    </tr>\n",
       "    <tr>\n",
       "      <th>866</th>\n",
       "      <td>0</td>\n",
       "      <td>1</td>\n",
       "    </tr>\n",
       "    <tr>\n",
       "      <th>15130</th>\n",
       "      <td>0</td>\n",
       "      <td>0</td>\n",
       "    </tr>\n",
       "    <tr>\n",
       "      <th>17979</th>\n",
       "      <td>0</td>\n",
       "      <td>0</td>\n",
       "    </tr>\n",
       "    <tr>\n",
       "      <th>11291</th>\n",
       "      <td>0</td>\n",
       "      <td>0</td>\n",
       "    </tr>\n",
       "    <tr>\n",
       "      <th>9822</th>\n",
       "      <td>1</td>\n",
       "      <td>0</td>\n",
       "    </tr>\n",
       "    <tr>\n",
       "      <th>24316</th>\n",
       "      <td>1</td>\n",
       "      <td>1</td>\n",
       "    </tr>\n",
       "    <tr>\n",
       "      <th>18927</th>\n",
       "      <td>0</td>\n",
       "      <td>1</td>\n",
       "    </tr>\n",
       "    <tr>\n",
       "      <th>19432</th>\n",
       "      <td>0</td>\n",
       "      <td>1</td>\n",
       "    </tr>\n",
       "  </tbody>\n",
       "</table>\n",
       "</div>"
      ],
      "text/plain": [
       "       xyz_vaccine  seasonal_vaccine\n",
       "15772            0                 0\n",
       "9407             0                 1\n",
       "16515            0                 0\n",
       "23353            0                 0\n",
       "10008            0                 0\n",
       "11635            1                 1\n",
       "19331            0                 1\n",
       "10221            1                 1\n",
       "23327            0                 0\n",
       "16569            1                 1\n",
       "2641             1                 1\n",
       "7302             0                 0\n",
       "6027             0                 1\n",
       "25458            0                 1\n",
       "15714            0                 0\n",
       "4814             0                 1\n",
       "19535            1                 0\n",
       "17407            0                 0\n",
       "7757             0                 0\n",
       "9712             0                 0\n",
       "6545             1                 1\n",
       "5706             1                 0\n",
       "866              0                 1\n",
       "15130            0                 0\n",
       "17979            0                 0\n",
       "11291            0                 0\n",
       "9822             1                 0\n",
       "24316            1                 1\n",
       "18927            0                 1\n",
       "19432            0                 1"
      ]
     },
     "execution_count": 663,
     "metadata": {},
     "output_type": "execute_result"
    }
   ],
   "source": [
    "y_val.head(30)"
   ]
  },
  {
   "cell_type": "code",
   "execution_count": 665,
   "id": "0ecf211e-5f01-4a15-a6d3-7fa1a3e75472",
   "metadata": {},
   "outputs": [],
   "source": [
    "def round_to_binary(arr):\n",
    "    return np.round(arr).astype(int)\n",
    "\n",
    "rounded_arrays = [round_to_binary(arr) for arr in y_pred_val]\n",
    "\n",
    "array1 = rounded_arrays[0]\n",
    "array2 = rounded_arrays[1]\n",
    "\n",
    "array1_new = np.zeros(array1.shape[0], dtype=int)\n",
    "for i in range(array1.shape[0]):\n",
    "    max_index = np.argmax(array1[i])\n",
    "    array1_new[i] = max_index\n",
    "\n",
    "array2_new = np.zeros(array2.shape[0], dtype=int)\n",
    "for i in range(array2.shape[0]):\n",
    "    max_index = np.argmax(array2[i])\n",
    "    array2_new[i] = max_index\n",
    "\n",
    "# lol should have used only probability of being 1\n",
    "    #why complicate T_T"
   ]
  },
  {
   "cell_type": "code",
   "execution_count": 667,
   "id": "6981bbbb-8b28-484e-8e04-5ffc802b012e",
   "metadata": {},
   "outputs": [
    {
     "data": {
      "text/plain": [
       "0.83508049419693"
      ]
     },
     "execution_count": 667,
     "metadata": {},
     "output_type": "execute_result"
    }
   ],
   "source": [
    "from sklearn.metrics import accuracy_score\n",
    "df_column = y_val['xyz_vaccine'].values[:5352]\n",
    "accuracy_xyz= accuracy_score(array1_new.flatten(), df_column)\n",
    "accuracy_xyz"
   ]
  },
  {
   "cell_type": "code",
   "execution_count": 669,
   "id": "a90bd24f-66d4-4958-a0f3-35f8a52c0232",
   "metadata": {},
   "outputs": [
    {
     "data": {
      "text/plain": [
       "0.7744290527892175"
      ]
     },
     "execution_count": 669,
     "metadata": {},
     "output_type": "execute_result"
    }
   ],
   "source": [
    "df_column2 = y_val['seasonal_vaccine'].values[:5352]\n",
    "accuracy_seas= accuracy_score(array2_new.flatten(), df_column2)\n",
    "accuracy_seas"
   ]
  },
  {
   "cell_type": "markdown",
   "id": "e8853e87-e5a9-418b-bdaf-9d9e6fd8d5b0",
   "metadata": {},
   "source": [
    "##### Good enough accuarcy"
   ]
  },
  {
   "cell_type": "markdown",
   "id": "3da5a90a-3919-40c2-9f2b-e6613f76b67e",
   "metadata": {},
   "source": [
    "##### -------------------------------------------------------------------------------------"
   ]
  },
  {
   "cell_type": "code",
   "execution_count": 673,
   "id": "4365c5c6-3590-42f5-b6d9-b657478f094e",
   "metadata": {},
   "outputs": [],
   "source": [
    "from sklearn.metrics import roc_curve, auc"
   ]
  },
  {
   "cell_type": "code",
   "execution_count": 675,
   "id": "68a1633f-1b6a-4c4f-b1df-30606072e2aa",
   "metadata": {},
   "outputs": [],
   "source": [
    "#ROC for both target variables\n",
    "roc_auc_xyz = roc_auc_score(y_val['xyz_vaccine'], y_pred_val[0][:, 1])\n",
    "roc_auc_seasonal = roc_auc_score(y_val['seasonal_vaccine'], y_pred_val[1][:, 1])"
   ]
  },
  {
   "cell_type": "code",
   "execution_count": 677,
   "id": "6bb2374f-2b6c-4c2b-ae20-09bbc8d39427",
   "metadata": {},
   "outputs": [],
   "source": [
    "#roc curve and area for xyz_vaccine\n",
    "fpr_xyz, tpr_xyz, _ = roc_curve(y_val['xyz_vaccine'], y_pred_val[0][:, 1])\n",
    "roc_auc_xyz = auc(fpr_xyz, tpr_xyz)"
   ]
  },
  {
   "cell_type": "code",
   "execution_count": 679,
   "id": "ede87a1f-e826-41f9-b163-1905e3fad50d",
   "metadata": {},
   "outputs": [],
   "source": [
    "#roc curve and area for seasonal_vaccine\n",
    "fpr_seasonal, tpr_seasonal, _ = roc_curve(y_val['seasonal_vaccine'], y_pred_val[1][:, 1])\n",
    "roc_auc_seasonal = auc(fpr_seasonal, tpr_seasonal)"
   ]
  },
  {
   "cell_type": "code",
   "execution_count": 681,
   "id": "6a77ed6c-ba5f-4270-85e9-92564f92ee33",
   "metadata": {},
   "outputs": [
    {
     "data": {
      "image/png": "[encoded data removed]",
      "text/plain": [
       "<Figure size 800x600 with 1 Axes>"
      ]
     },
     "metadata": {},
     "output_type": "display_data"
    }
   ],
   "source": [
    "# plotting ROC graph\n",
    "plt.figure(figsize=(8, 6))\n",
    "plt.plot(fpr_xyz, tpr_xyz, color='blue', lw=2, label=f'ROC curve (area = {roc_auc_xyz:.2f}) for XYZ vaccine')\n",
    "plt.plot(fpr_seasonal, tpr_seasonal, color='green', lw=2, label=f'ROC curve (area = {roc_auc_seasonal:.2f}) for Seasonal vaccine')\n",
    "plt.plot([0, 1], [0, 1], color='gray', linestyle='--')\n",
    "plt.xlim([0.0, 1.0])\n",
    "plt.ylim([0.0, 1.05])\n",
    "plt.xlabel('False Positive Rate')\n",
    "plt.ylabel('True Positive Rate')\n",
    "plt.title('Receiver Operating Characteristic (ROC) Curve')\n",
    "plt.legend(loc='lower right')\n",
    "plt.grid(True)\n",
    "plt.show()"
   ]
  },
  {
   "cell_type": "code",
   "execution_count": 683,
   "id": "d6427bd0-5913-4ce6-84b4-d647b79a49d2",
   "metadata": {},
   "outputs": [
    {
     "data": {
      "text/html": [
       "<style>#sk-container-id-6 {color: black;background-color: white;}#sk-container-id-6 pre{padding: 0;}#sk-container-id-6 div.sk-toggleable {background-color: white;}#sk-container-id-6 label.sk-toggleable__label {cursor: pointer;display: block;width: 100%;margin-bottom: 0;padding: 0.3em;box-sizing: border-box;text-align: center;}#sk-container-id-6 label.sk-toggleable__label-arrow:before {content: \"▸\";float: left;margin-right: 0.25em;color: #696969;}#sk-container-id-6 label.sk-toggleable__label-arrow:hover:before {color: black;}#sk-container-id-6 div.sk-estimator:hover label.sk-toggleable__label-arrow:before {color: black;}#sk-container-id-6 div.sk-toggleable__content {max-height: 0;max-width: 0;overflow: hidden;text-align: left;background-color: #f0f8ff;}#sk-container-id-6 div.sk-toggleable__content pre {margin: 0.2em;color: black;border-radius: 0.25em;background-color: #f0f8ff;}#sk-container-id-6 input.sk-toggleable__control:checked~div.sk-toggleable__content {max-height: 200px;max-width: 100%;overflow: auto;}#sk-container-id-6 input.sk-toggleable__control:checked~label.sk-toggleable__label-arrow:before {content: \"▾\";}#sk-container-id-6 div.sk-estimator input.sk-toggleable__control:checked~label.sk-toggleable__label {background-color: #d4ebff;}#sk-container-id-6 div.sk-label input.sk-toggleable__control:checked~label.sk-toggleable__label {background-color: #d4ebff;}#sk-container-id-6 input.sk-hidden--visually {border: 0;clip: rect(1px 1px 1px 1px);clip: rect(1px, 1px, 1px, 1px);height: 1px;margin: -1px;overflow: hidden;padding: 0;position: absolute;width: 1px;}#sk-container-id-6 div.sk-estimator {font-family: monospace;background-color: #f0f8ff;border: 1px dotted black;border-radius: 0.25em;box-sizing: border-box;margin-bottom: 0.5em;}#sk-container-id-6 div.sk-estimator:hover {background-color: #d4ebff;}#sk-container-id-6 div.sk-parallel-item::after {content: \"\";width: 100%;border-bottom: 1px solid gray;flex-grow: 1;}#sk-container-id-6 div.sk-label:hover label.sk-toggleable__label {background-color: #d4ebff;}#sk-container-id-6 div.sk-serial::before {content: \"\";position: absolute;border-left: 1px solid gray;box-sizing: border-box;top: 0;bottom: 0;left: 50%;z-index: 0;}#sk-container-id-6 div.sk-serial {display: flex;flex-direction: column;align-items: center;background-color: white;padding-right: 0.2em;padding-left: 0.2em;position: relative;}#sk-container-id-6 div.sk-item {position: relative;z-index: 1;}#sk-container-id-6 div.sk-parallel {display: flex;align-items: stretch;justify-content: center;background-color: white;position: relative;}#sk-container-id-6 div.sk-item::before, #sk-container-id-6 div.sk-parallel-item::before {content: \"\";position: absolute;border-left: 1px solid gray;box-sizing: border-box;top: 0;bottom: 0;left: 50%;z-index: -1;}#sk-container-id-6 div.sk-parallel-item {display: flex;flex-direction: column;z-index: 1;position: relative;background-color: white;}#sk-container-id-6 div.sk-parallel-item:first-child::after {align-self: flex-end;width: 50%;}#sk-container-id-6 div.sk-parallel-item:last-child::after {align-self: flex-start;width: 50%;}#sk-container-id-6 div.sk-parallel-item:only-child::after {width: 0;}#sk-container-id-6 div.sk-dashed-wrapped {border: 1px dashed gray;margin: 0 0.4em 0.5em 0.4em;box-sizing: border-box;padding-bottom: 0.4em;background-color: white;}#sk-container-id-6 div.sk-label label {font-family: monospace;font-weight: bold;display: inline-block;line-height: 1.2em;}#sk-container-id-6 div.sk-label-container {text-align: center;}#sk-container-id-6 div.sk-container {/* jupyter's `normalize.less` sets `[hidden] { display: none; }` but bootstrap.min.css set `[hidden] { display: none !important; }` so we also need the `!important` here to be able to override the default hidden behavior on the sphinx rendered scikit-learn.org. See: https://github.com/scikit-learn/scikit-learn/issues/21755 */display: inline-block !important;position: relative;}#sk-container-id-6 div.sk-text-repr-fallback {display: none;}</style><div id=\"sk-container-id-6\" class=\"sk-top-container\"><div class=\"sk-text-repr-fallback\"><pre>Pipeline(steps=[(&#x27;scaler&#x27;, StandardScaler()), (&#x27;pca&#x27;, PCA(n_components=0.95)),\n",
       "                (&#x27;classifier&#x27;,\n",
       "                 MultiOutputClassifier(estimator=LogisticRegression(max_iter=1000,\n",
       "                                                                    random_state=42)))])</pre><b>In a Jupyter environment, please rerun this cell to show the HTML representation or trust the notebook. <br />On GitHub, the HTML representation is unable to render, please try loading this page with nbviewer.org.</b></div><div class=\"sk-container\" hidden><div class=\"sk-item sk-dashed-wrapped\"><div class=\"sk-label-container\"><div class=\"sk-label sk-toggleable\"><input class=\"sk-toggleable__control sk-hidden--visually\" id=\"sk-estimator-id-31\" type=\"checkbox\" ><label for=\"sk-estimator-id-31\" class=\"sk-toggleable__label sk-toggleable__label-arrow\">Pipeline</label><div class=\"sk-toggleable__content\"><pre>Pipeline(steps=[(&#x27;scaler&#x27;, StandardScaler()), (&#x27;pca&#x27;, PCA(n_components=0.95)),\n",
       "                (&#x27;classifier&#x27;,\n",
       "                 MultiOutputClassifier(estimator=LogisticRegression(max_iter=1000,\n",
       "                                                                    random_state=42)))])</pre></div></div></div><div class=\"sk-serial\"><div class=\"sk-item\"><div class=\"sk-estimator sk-toggleable\"><input class=\"sk-toggleable__control sk-hidden--visually\" id=\"sk-estimator-id-32\" type=\"checkbox\" ><label for=\"sk-estimator-id-32\" class=\"sk-toggleable__label sk-toggleable__label-arrow\">StandardScaler</label><div class=\"sk-toggleable__content\"><pre>StandardScaler()</pre></div></div></div><div class=\"sk-item\"><div class=\"sk-estimator sk-toggleable\"><input class=\"sk-toggleable__control sk-hidden--visually\" id=\"sk-estimator-id-33\" type=\"checkbox\" ><label for=\"sk-estimator-id-33\" class=\"sk-toggleable__label sk-toggleable__label-arrow\">PCA</label><div class=\"sk-toggleable__content\"><pre>PCA(n_components=0.95)</pre></div></div></div><div class=\"sk-item sk-dashed-wrapped\"><div class=\"sk-label-container\"><div class=\"sk-label sk-toggleable\"><input class=\"sk-toggleable__control sk-hidden--visually\" id=\"sk-estimator-id-34\" type=\"checkbox\" ><label for=\"sk-estimator-id-34\" class=\"sk-toggleable__label sk-toggleable__label-arrow\">classifier: MultiOutputClassifier</label><div class=\"sk-toggleable__content\"><pre>MultiOutputClassifier(estimator=LogisticRegression(max_iter=1000,\n",
       "                                                   random_state=42))</pre></div></div></div><div class=\"sk-parallel\"><div class=\"sk-parallel-item\"><div class=\"sk-item\"><div class=\"sk-label-container\"><div class=\"sk-label sk-toggleable\"><input class=\"sk-toggleable__control sk-hidden--visually\" id=\"sk-estimator-id-35\" type=\"checkbox\" ><label for=\"sk-estimator-id-35\" class=\"sk-toggleable__label sk-toggleable__label-arrow\">estimator: LogisticRegression</label><div class=\"sk-toggleable__content\"><pre>LogisticRegression(max_iter=1000, random_state=42)</pre></div></div></div><div class=\"sk-serial\"><div class=\"sk-item\"><div class=\"sk-estimator sk-toggleable\"><input class=\"sk-toggleable__control sk-hidden--visually\" id=\"sk-estimator-id-36\" type=\"checkbox\" ><label for=\"sk-estimator-id-36\" class=\"sk-toggleable__label sk-toggleable__label-arrow\">LogisticRegression</label><div class=\"sk-toggleable__content\"><pre>LogisticRegression(max_iter=1000, random_state=42)</pre></div></div></div></div></div></div></div></div></div></div></div></div>"
      ],
      "text/plain": [
       "Pipeline(steps=[('scaler', StandardScaler()), ('pca', PCA(n_components=0.95)),\n",
       "                ('classifier',\n",
       "                 MultiOutputClassifier(estimator=LogisticRegression(max_iter=1000,\n",
       "                                                                    random_state=42)))])"
      ]
     },
     "execution_count": 683,
     "metadata": {},
     "output_type": "execute_result"
    }
   ],
   "source": [
    "#lets train the model on the full training dataset for better accuracy or whatever\n",
    "pipeline.fit(train_ft[train_ft.columns], train_lbl)"
   ]
  },
  {
   "cell_type": "markdown",
   "id": "cbf0ce6e-cc07-42d9-aa11-362beb000aa1",
   "metadata": {},
   "source": [
    "### Using on Test Dataset"
   ]
  },
  {
   "cell_type": "code",
   "execution_count": 686,
   "id": "7aa394d8-0345-444c-a2fc-251f0a83fc26",
   "metadata": {},
   "outputs": [],
   "source": [
    "test_preds = pipeline.predict_proba(test_ft[test_ft.columns])"
   ]
  },
  {
   "cell_type": "code",
   "execution_count": 688,
   "id": "4b576a08-8b00-4001-b525-d5a56f4a2311",
   "metadata": {},
   "outputs": [
    {
     "data": {
      "text/plain": [
       "[array([[0.91574217, 0.08425783],\n",
       "        [0.93898384, 0.06101616],\n",
       "        [0.5610255 , 0.4389745 ],\n",
       "        ...,\n",
       "        [0.84913165, 0.15086835],\n",
       "        [0.95678656, 0.04321344],\n",
       "        [0.69932329, 0.30067671]]),\n",
       " array([[0.75182436, 0.24817564],\n",
       "        [0.92728956, 0.07271044],\n",
       "        [0.28075335, 0.71924665],\n",
       "        ...,\n",
       "        [0.73597993, 0.26402007],\n",
       "        [0.63857051, 0.36142949],\n",
       "        [0.38419929, 0.61580071]])]"
      ]
     },
     "execution_count": 688,
     "metadata": {},
     "output_type": "execute_result"
    }
   ],
   "source": [
    "test_preds #checking"
   ]
  },
  {
   "cell_type": "code",
   "execution_count": 690,
   "id": "b3e1b32e-9545-40ae-80b5-ed237050b251",
   "metadata": {},
   "outputs": [
    {
     "data": {
      "text/plain": [
       "array([0.08425783, 0.06101616, 0.4389745 , ..., 0.15086835, 0.04321344,\n",
       "       0.30067671])"
      ]
     },
     "execution_count": 690,
     "metadata": {},
     "output_type": "execute_result"
    }
   ],
   "source": [
    "test_preds[0][:, 1] #checking"
   ]
  },
  {
   "cell_type": "code",
   "execution_count": 692,
   "id": "046d44c4-7611-45e0-806d-9081463bd784",
   "metadata": {},
   "outputs": [
    {
     "data": {
      "text/plain": [
       "array([0.24817564, 0.07271044, 0.71924665, ..., 0.26402007, 0.36142949,\n",
       "       0.61580071])"
      ]
     },
     "execution_count": 692,
     "metadata": {},
     "output_type": "execute_result"
    }
   ],
   "source": [
    "test_preds[1][:, 1] #checking"
   ]
  },
  {
   "cell_type": "code",
   "execution_count": 694,
   "id": "53b0e27f-40f7-4d79-8ded-7c8343147593",
   "metadata": {},
   "outputs": [],
   "source": [
    "submit_fmt['h1n1_vaccine'] = test_preds[0][:, 1]\n",
    "submit_fmt['seasonal_vaccine'] = test_preds[1][:, 1]"
   ]
  },
  {
   "cell_type": "code",
   "execution_count": 696,
   "id": "4005a50a-65a9-49ad-ac22-76085b7bf7b7",
   "metadata": {},
   "outputs": [],
   "source": [
    "submit_fmt_2 = pd.read_csv('submission_format.csv') #checking"
   ]
  },
  {
   "cell_type": "code",
   "execution_count": 698,
   "id": "3b3c6955-0407-4d61-9d5a-3c3807a9bce2",
   "metadata": {},
   "outputs": [
    {
     "data": {
      "text/plain": [
       "(26708, 2)"
      ]
     },
     "execution_count": 698,
     "metadata": {},
     "output_type": "execute_result"
    }
   ],
   "source": [
    "submit_fmt.shape #checking"
   ]
  },
  {
   "cell_type": "code",
   "execution_count": 700,
   "id": "ca02b408-d839-4a52-a86f-3e01083aeb47",
   "metadata": {},
   "outputs": [
    {
     "data": {
      "text/html": [
       "<div>\n",
       "<style scoped>\n",
       "    .dataframe tbody tr th:only-of-type {\n",
       "        vertical-align: middle;\n",
       "    }\n",
       "\n",
       "    .dataframe tbody tr th {\n",
       "        vertical-align: top;\n",
       "    }\n",
       "\n",
       "    .dataframe thead th {\n",
       "        text-align: right;\n",
       "    }\n",
       "</style>\n",
       "<table border=\"1\" class=\"dataframe\">\n",
       "  <thead>\n",
       "    <tr style=\"text-align: right;\">\n",
       "      <th></th>\n",
       "      <th>h1n1_vaccine</th>\n",
       "      <th>seasonal_vaccine</th>\n",
       "    </tr>\n",
       "  </thead>\n",
       "  <tbody>\n",
       "    <tr>\n",
       "      <th>0</th>\n",
       "      <td>0.084258</td>\n",
       "      <td>0.248176</td>\n",
       "    </tr>\n",
       "    <tr>\n",
       "      <th>1</th>\n",
       "      <td>0.061016</td>\n",
       "      <td>0.072710</td>\n",
       "    </tr>\n",
       "    <tr>\n",
       "      <th>2</th>\n",
       "      <td>0.438975</td>\n",
       "      <td>0.719247</td>\n",
       "    </tr>\n",
       "    <tr>\n",
       "      <th>3</th>\n",
       "      <td>0.425760</td>\n",
       "      <td>0.903814</td>\n",
       "    </tr>\n",
       "    <tr>\n",
       "      <th>4</th>\n",
       "      <td>0.232410</td>\n",
       "      <td>0.436761</td>\n",
       "    </tr>\n",
       "  </tbody>\n",
       "</table>\n",
       "</div>"
      ],
      "text/plain": [
       "   h1n1_vaccine  seasonal_vaccine\n",
       "0      0.084258          0.248176\n",
       "1      0.061016          0.072710\n",
       "2      0.438975          0.719247\n",
       "3      0.425760          0.903814\n",
       "4      0.232410          0.436761"
      ]
     },
     "execution_count": 700,
     "metadata": {},
     "output_type": "execute_result"
    }
   ],
   "source": [
    "submit_fmt.head() #checking"
   ]
  },
  {
   "cell_type": "code",
   "execution_count": 702,
   "id": "485c515d-f0c8-4565-bb78-5c0c0c578557",
   "metadata": {},
   "outputs": [
    {
     "data": {
      "text/plain": [
       "(26708, 3)"
      ]
     },
     "execution_count": 702,
     "metadata": {},
     "output_type": "execute_result"
    }
   ],
   "source": [
    "submit_fmt_2.shape #checking"
   ]
  },
  {
   "cell_type": "code",
   "execution_count": 704,
   "id": "6bf735cd-82d5-4d32-9236-c14b983871f1",
   "metadata": {},
   "outputs": [
    {
     "data": {
      "text/html": [
       "<div>\n",
       "<style scoped>\n",
       "    .dataframe tbody tr th:only-of-type {\n",
       "        vertical-align: middle;\n",
       "    }\n",
       "\n",
       "    .dataframe tbody tr th {\n",
       "        vertical-align: top;\n",
       "    }\n",
       "\n",
       "    .dataframe thead th {\n",
       "        text-align: right;\n",
       "    }\n",
       "</style>\n",
       "<table border=\"1\" class=\"dataframe\">\n",
       "  <thead>\n",
       "    <tr style=\"text-align: right;\">\n",
       "      <th></th>\n",
       "      <th>respondent_id</th>\n",
       "      <th>h1n1_vaccine</th>\n",
       "      <th>seasonal_vaccine</th>\n",
       "    </tr>\n",
       "  </thead>\n",
       "  <tbody>\n",
       "    <tr>\n",
       "      <th>0</th>\n",
       "      <td>26707</td>\n",
       "      <td>0.5</td>\n",
       "      <td>0.7</td>\n",
       "    </tr>\n",
       "    <tr>\n",
       "      <th>1</th>\n",
       "      <td>26708</td>\n",
       "      <td>0.5</td>\n",
       "      <td>0.7</td>\n",
       "    </tr>\n",
       "    <tr>\n",
       "      <th>2</th>\n",
       "      <td>26709</td>\n",
       "      <td>0.5</td>\n",
       "      <td>0.7</td>\n",
       "    </tr>\n",
       "    <tr>\n",
       "      <th>3</th>\n",
       "      <td>26710</td>\n",
       "      <td>0.5</td>\n",
       "      <td>0.7</td>\n",
       "    </tr>\n",
       "    <tr>\n",
       "      <th>4</th>\n",
       "      <td>26711</td>\n",
       "      <td>0.5</td>\n",
       "      <td>0.7</td>\n",
       "    </tr>\n",
       "  </tbody>\n",
       "</table>\n",
       "</div>"
      ],
      "text/plain": [
       "   respondent_id  h1n1_vaccine  seasonal_vaccine\n",
       "0          26707           0.5               0.7\n",
       "1          26708           0.5               0.7\n",
       "2          26709           0.5               0.7\n",
       "3          26710           0.5               0.7\n",
       "4          26711           0.5               0.7"
      ]
     },
     "execution_count": 704,
     "metadata": {},
     "output_type": "execute_result"
    }
   ],
   "source": [
    "submit_fmt_2.head() #checking"
   ]
  },
  {
   "cell_type": "code",
   "execution_count": 706,
   "id": "cdc02397-3996-4072-9891-5356183341bd",
   "metadata": {},
   "outputs": [],
   "source": [
    "submit_fmt_2['h1n1_vaccine'] = submit_fmt['h1n1_vaccine']\n",
    "submit_fmt_2['seasonal_vaccine'] = submit_fmt['seasonal_vaccine']"
   ]
  },
  {
   "cell_type": "code",
   "execution_count": 708,
   "id": "231fa995-7b37-4b83-abea-925fe50caed5",
   "metadata": {},
   "outputs": [
    {
     "data": {
      "text/html": [
       "<div>\n",
       "<style scoped>\n",
       "    .dataframe tbody tr th:only-of-type {\n",
       "        vertical-align: middle;\n",
       "    }\n",
       "\n",
       "    .dataframe tbody tr th {\n",
       "        vertical-align: top;\n",
       "    }\n",
       "\n",
       "    .dataframe thead th {\n",
       "        text-align: right;\n",
       "    }\n",
       "</style>\n",
       "<table border=\"1\" class=\"dataframe\">\n",
       "  <thead>\n",
       "    <tr style=\"text-align: right;\">\n",
       "      <th></th>\n",
       "      <th>respondent_id</th>\n",
       "      <th>h1n1_vaccine</th>\n",
       "      <th>seasonal_vaccine</th>\n",
       "    </tr>\n",
       "  </thead>\n",
       "  <tbody>\n",
       "    <tr>\n",
       "      <th>0</th>\n",
       "      <td>26707</td>\n",
       "      <td>0.084258</td>\n",
       "      <td>0.248176</td>\n",
       "    </tr>\n",
       "    <tr>\n",
       "      <th>1</th>\n",
       "      <td>26708</td>\n",
       "      <td>0.061016</td>\n",
       "      <td>0.072710</td>\n",
       "    </tr>\n",
       "    <tr>\n",
       "      <th>2</th>\n",
       "      <td>26709</td>\n",
       "      <td>0.438975</td>\n",
       "      <td>0.719247</td>\n",
       "    </tr>\n",
       "    <tr>\n",
       "      <th>3</th>\n",
       "      <td>26710</td>\n",
       "      <td>0.425760</td>\n",
       "      <td>0.903814</td>\n",
       "    </tr>\n",
       "    <tr>\n",
       "      <th>4</th>\n",
       "      <td>26711</td>\n",
       "      <td>0.232410</td>\n",
       "      <td>0.436761</td>\n",
       "    </tr>\n",
       "  </tbody>\n",
       "</table>\n",
       "</div>"
      ],
      "text/plain": [
       "   respondent_id  h1n1_vaccine  seasonal_vaccine\n",
       "0          26707      0.084258          0.248176\n",
       "1          26708      0.061016          0.072710\n",
       "2          26709      0.438975          0.719247\n",
       "3          26710      0.425760          0.903814\n",
       "4          26711      0.232410          0.436761"
      ]
     },
     "execution_count": 708,
     "metadata": {},
     "output_type": "execute_result"
    }
   ],
   "source": [
    "submit_fmt_2.head() #checking"
   ]
  },
  {
   "cell_type": "code",
   "execution_count": 710,
   "id": "12082b88-5c19-451b-9748-f39594df59c6",
   "metadata": {},
   "outputs": [
    {
     "name": "stdout",
     "output_type": "stream",
     "text": [
      "<class 'pandas.core.frame.DataFrame'>\n",
      "RangeIndex: 26708 entries, 0 to 26707\n",
      "Data columns (total 3 columns):\n",
      " #   Column            Non-Null Count  Dtype  \n",
      "---  ------            --------------  -----  \n",
      " 0   respondent_id     26708 non-null  int64  \n",
      " 1   h1n1_vaccine      26708 non-null  float64\n",
      " 2   seasonal_vaccine  26708 non-null  float64\n",
      "dtypes: float64(2), int64(1)\n",
      "memory usage: 626.1 KB\n"
     ]
    }
   ],
   "source": [
    "submit_fmt_2.info() #checking"
   ]
  },
  {
   "cell_type": "code",
   "execution_count": 712,
   "id": "e5b9ae5c-74ab-4689-8852-26e350e0f838",
   "metadata": {},
   "outputs": [
    {
     "data": {
      "text/plain": [
       "respondent_id       0\n",
       "h1n1_vaccine        0\n",
       "seasonal_vaccine    0\n",
       "dtype: int64"
      ]
     },
     "execution_count": 712,
     "metadata": {},
     "output_type": "execute_result"
    }
   ],
   "source": [
    "submit_fmt_2.isna().sum() #checking"
   ]
  },
  {
   "cell_type": "code",
   "execution_count": 714,
   "id": "c2972c00-6206-4158-b5fe-515e6cbbf005",
   "metadata": {},
   "outputs": [],
   "source": [
    "submit_fmt_2.rename(columns={'h1n1_vaccine': 'xyz_vaccine'}, inplace=True)"
   ]
  },
  {
   "cell_type": "code",
   "execution_count": 716,
   "id": "11e0a06a-c6bf-426d-beec-0c018abd7767",
   "metadata": {},
   "outputs": [
    {
     "data": {
      "text/html": [
       "<div>\n",
       "<style scoped>\n",
       "    .dataframe tbody tr th:only-of-type {\n",
       "        vertical-align: middle;\n",
       "    }\n",
       "\n",
       "    .dataframe tbody tr th {\n",
       "        vertical-align: top;\n",
       "    }\n",
       "\n",
       "    .dataframe thead th {\n",
       "        text-align: right;\n",
       "    }\n",
       "</style>\n",
       "<table border=\"1\" class=\"dataframe\">\n",
       "  <thead>\n",
       "    <tr style=\"text-align: right;\">\n",
       "      <th></th>\n",
       "      <th>respondent_id</th>\n",
       "      <th>xyz_vaccine</th>\n",
       "      <th>seasonal_vaccine</th>\n",
       "    </tr>\n",
       "  </thead>\n",
       "  <tbody>\n",
       "    <tr>\n",
       "      <th>0</th>\n",
       "      <td>26707</td>\n",
       "      <td>0.084258</td>\n",
       "      <td>0.248176</td>\n",
       "    </tr>\n",
       "    <tr>\n",
       "      <th>1</th>\n",
       "      <td>26708</td>\n",
       "      <td>0.061016</td>\n",
       "      <td>0.072710</td>\n",
       "    </tr>\n",
       "    <tr>\n",
       "      <th>2</th>\n",
       "      <td>26709</td>\n",
       "      <td>0.438975</td>\n",
       "      <td>0.719247</td>\n",
       "    </tr>\n",
       "    <tr>\n",
       "      <th>3</th>\n",
       "      <td>26710</td>\n",
       "      <td>0.425760</td>\n",
       "      <td>0.903814</td>\n",
       "    </tr>\n",
       "    <tr>\n",
       "      <th>4</th>\n",
       "      <td>26711</td>\n",
       "      <td>0.232410</td>\n",
       "      <td>0.436761</td>\n",
       "    </tr>\n",
       "  </tbody>\n",
       "</table>\n",
       "</div>"
      ],
      "text/plain": [
       "   respondent_id  xyz_vaccine  seasonal_vaccine\n",
       "0          26707     0.084258          0.248176\n",
       "1          26708     0.061016          0.072710\n",
       "2          26709     0.438975          0.719247\n",
       "3          26710     0.425760          0.903814\n",
       "4          26711     0.232410          0.436761"
      ]
     },
     "execution_count": 716,
     "metadata": {},
     "output_type": "execute_result"
    }
   ],
   "source": [
    "submit_fmt_2.head()"
   ]
  },
  {
   "cell_type": "code",
   "execution_count": 718,
   "id": "80a39b11-cddd-4656-8d55-1b5898cea736",
   "metadata": {},
   "outputs": [],
   "source": [
    "submit_fmt_2.to_csv('probabilities_submission_file.csv', index=False)"
   ]
  },
  {
   "cell_type": "markdown",
   "id": "41d2fcdd-8243-4310-8493-d98d01c36e48",
   "metadata": {},
   "source": [
    "##### DONE :'D"
   ]
  },
  {
   "cell_type": "code",
   "execution_count": null,
   "id": "98ccff97-376e-4263-bcee-acfc7efca344",
   "metadata": {},
   "outputs": [],
   "source": []
  }
 ],
 "metadata": {
  "kernelspec": {
   "display_name": "Python 3 (ipykernel)",
   "language": "python",
   "name": "python3"
  },
  "language_info": {
   "codemirror_mode": {
    "name": "ipython",
    "version": 3
   },
   "file_extension": ".py",
   "mimetype": "text/x-python",
   "name": "python",
   "nbconvert_exporter": "python",
   "pygments_lexer": "ipython3",
   "version": "3.11.7"
  }
 },
 "nbformat": 4,
 "nbformat_minor": 5
}
